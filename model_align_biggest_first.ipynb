{
 "cells": [
  {
   "cell_type": "code",
   "execution_count": 1,
   "id": "d0335573",
   "metadata": {},
   "outputs": [
    {
     "name": "stdout",
     "output_type": "stream",
     "text": [
      "You are using the recommended version for this script!\n"
     ]
    }
   ],
   "source": [
    "import platform\n",
    "\n",
    "print('You are using the recommended version for this script!' \n",
    "      if platform.python_version() == '3.9.6' else \n",
    "      'You are not using the recommended version for this script!')"
   ]
  },
  {
   "cell_type": "code",
   "execution_count": 2,
   "id": "6eec1749",
   "metadata": {},
   "outputs": [],
   "source": [
    "###TODO NB! There are no methods, all should be referred to as functions!!!!!"
   ]
  },
  {
   "cell_type": "code",
   "execution_count": 3,
   "id": "2a2cf584",
   "metadata": {},
   "outputs": [],
   "source": [
    "import pandas as pd\n",
    "from tqdm import tqdm\n",
    "import ast\n",
    "import itertools\n",
    "import operator"
   ]
  },
  {
   "cell_type": "code",
   "execution_count": 4,
   "id": "cf2cd94a",
   "metadata": {},
   "outputs": [],
   "source": [
    "### Functions for getting data from files\n",
    "\n",
    "## Get raw data from file\n",
    "def get_data_from_file(file_name):\n",
    "    file = open(file_name)\n",
    "    content = file.read()\n",
    "    lines = content.split('\\n')\n",
    "    file.close()\n",
    "    \n",
    "    return lines\n",
    "\n",
    "## Get trajectories (default file name is trajectories.csv)\n",
    "def get_trajectories(file_name = 'trajectories.csv'):\n",
    "    trajectories = dict()\n",
    "    lines = get_data_from_file(file_name)\n",
    "    for (index, line) in enumerate(lines):\n",
    "        cols = line.split('\\t')\n",
    "        if index == 0 or len(cols) <= 1: #Ignore title row and empty rows\n",
    "            continue\n",
    "        trajectories[cols[0]] = cols[1:]\n",
    "    \n",
    "    return trajectories        \n",
    "        \n",
    "## Get sections (default file name is diagnoses.csv)\n",
    "def get_sections(file_name = 'diagnoses.csv'):\n",
    "    person_sections = dict()\n",
    "    lines = get_data_from_file(file_name)\n",
    "    for (index, line) in enumerate(lines):\n",
    "        cols = line.split('\\t')\n",
    "        if index == 0 or len(cols) <= 1: #Ignore title row and empty rows\n",
    "            continue\n",
    "        sections = ast.literal_eval(cols[-2])\n",
    "        person_sections[cols[0]] = sections\n",
    "        \n",
    "    return person_sections"
   ]
  },
  {
   "cell_type": "code",
   "execution_count": 5,
   "id": "8429ab2c",
   "metadata": {},
   "outputs": [],
   "source": [
    "### Create containers for data\n",
    "\n",
    "# sections = get_sections()\n",
    "# trajectories = get_trajectories()\n",
    "\n",
    "sections = get_sections('diagnoses_1.csv')\n",
    "trajectories = get_trajectories('trajectories_1.csv')"
   ]
  },
  {
   "cell_type": "code",
   "execution_count": 6,
   "id": "dff2be30",
   "metadata": {},
   "outputs": [],
   "source": [
    "### Helper methods for testing comparing methods\n",
    "\n",
    "## Return n number of best matching trajectory pairs \n",
    "## (if n is bigger than the length of trajectories, than all trajectories will be returned)\n",
    "def helper_get_n_similar_trajectories(data, compare_function, n=100, name='funtion', **kwargs):\n",
    "    pairs = list(itertools.combinations(data, 2)) #Get all possible pairs\n",
    "    results = {}\n",
    "    print('Started working on: %s' % (name))\n",
    "    for pair in tqdm(pairs):\n",
    "        results[pair] = compare_function(data[pair[0]], data[pair[1]], **kwargs)\n",
    "        \n",
    "    return dict(sorted(results.items(), key=operator.itemgetter(1), reverse=True)[:n])"
   ]
  },
  {
   "cell_type": "code",
   "execution_count": 7,
   "id": "33967b5a",
   "metadata": {},
   "outputs": [],
   "source": [
    "### Function for geting the number of matches between two trajectories\n",
    "\n",
    "def get_overall_similartity(t1, t2):\n",
    "    score = 0\n",
    "    for t in t1:\n",
    "        if t in t2:\n",
    "            score += 1\n",
    "    \n",
    "    return score"
   ]
  },
  {
   "cell_type": "code",
   "execution_count": 8,
   "id": "411e8906",
   "metadata": {},
   "outputs": [],
   "source": [
    "### Methods for comparing trajectories\n",
    "\n",
    "## Import all algo implementations\n",
    "from local_alignment import get_local_alignment\n",
    "from local_stretch_alignment import get_local_stretch_alignment\n",
    "from model_alignment import get_model_alignment"
   ]
  },
  {
   "cell_type": "code",
   "execution_count": 9,
   "id": "2a2e9a6a",
   "metadata": {},
   "outputs": [],
   "source": [
    "results = {}"
   ]
  },
  {
   "cell_type": "code",
   "execution_count": 10,
   "id": "f38e9377",
   "metadata": {
    "scrolled": false
   },
   "outputs": [
    {
     "name": "stdout",
     "output_type": "stream",
     "text": [
      "Started working on: control_set\n"
     ]
    },
    {
     "name": "stderr",
     "output_type": "stream",
     "text": [
      "100%|██████████| 5565/5565 [00:00<00:00, 1694099.42it/s]\n"
     ]
    },
    {
     "name": "stdout",
     "output_type": "stream",
     "text": [
      "Started working on: get_model_alignment_0\n"
     ]
    },
    {
     "name": "stderr",
     "output_type": "stream",
     "text": [
      "100%|██████████| 300/300 [00:01<00:00, 242.16it/s]\n"
     ]
    },
    {
     "name": "stdout",
     "output_type": "stream",
     "text": [
      "105\n",
      "Started working on: get_model_alignment_1\n"
     ]
    },
    {
     "name": "stderr",
     "output_type": "stream",
     "text": [
      "100%|██████████| 300/300 [00:01<00:00, 244.44it/s]\n"
     ]
    },
    {
     "name": "stdout",
     "output_type": "stream",
     "text": [
      "105\n",
      "Started working on: get_model_alignment_2\n"
     ]
    },
    {
     "name": "stderr",
     "output_type": "stream",
     "text": [
      "100%|██████████| 300/300 [00:01<00:00, 244.77it/s]\n"
     ]
    },
    {
     "name": "stdout",
     "output_type": "stream",
     "text": [
      "105\n",
      "Started working on: get_model_alignment_3\n"
     ]
    },
    {
     "name": "stderr",
     "output_type": "stream",
     "text": [
      "100%|██████████| 300/300 [00:01<00:00, 246.62it/s]\n"
     ]
    },
    {
     "name": "stdout",
     "output_type": "stream",
     "text": [
      "105\n",
      "Started working on: get_model_alignment_4\n"
     ]
    },
    {
     "name": "stderr",
     "output_type": "stream",
     "text": [
      "100%|██████████| 300/300 [00:01<00:00, 247.86it/s]\n"
     ]
    },
    {
     "name": "stdout",
     "output_type": "stream",
     "text": [
      "105\n",
      "Started working on: get_model_alignment_5\n"
     ]
    },
    {
     "name": "stderr",
     "output_type": "stream",
     "text": [
      "100%|██████████| 300/300 [00:01<00:00, 247.31it/s]\n"
     ]
    },
    {
     "name": "stdout",
     "output_type": "stream",
     "text": [
      "105\n",
      "Started working on: get_model_alignment_6\n"
     ]
    },
    {
     "name": "stderr",
     "output_type": "stream",
     "text": [
      "100%|██████████| 300/300 [00:01<00:00, 247.87it/s]\n"
     ]
    },
    {
     "name": "stdout",
     "output_type": "stream",
     "text": [
      "105\n",
      "Started working on: get_model_alignment_7\n"
     ]
    },
    {
     "name": "stderr",
     "output_type": "stream",
     "text": [
      "100%|██████████| 300/300 [00:01<00:00, 248.39it/s]\n"
     ]
    },
    {
     "name": "stdout",
     "output_type": "stream",
     "text": [
      "105\n",
      "Started working on: get_model_alignment_8\n"
     ]
    },
    {
     "name": "stderr",
     "output_type": "stream",
     "text": [
      "100%|██████████| 300/300 [00:01<00:00, 247.70it/s]\n"
     ]
    },
    {
     "name": "stdout",
     "output_type": "stream",
     "text": [
      "105\n",
      "Started working on: get_model_alignment_9\n"
     ]
    },
    {
     "name": "stderr",
     "output_type": "stream",
     "text": [
      "100%|██████████| 300/300 [00:01<00:00, 247.05it/s]\n"
     ]
    },
    {
     "name": "stdout",
     "output_type": "stream",
     "text": [
      "105\n",
      "Started working on: get_model_alignment_10\n"
     ]
    },
    {
     "name": "stderr",
     "output_type": "stream",
     "text": [
      "100%|██████████| 300/300 [00:01<00:00, 246.31it/s]\n"
     ]
    },
    {
     "name": "stdout",
     "output_type": "stream",
     "text": [
      "105\n",
      "Started working on: get_model_alignment_11\n"
     ]
    },
    {
     "name": "stderr",
     "output_type": "stream",
     "text": [
      "100%|██████████| 300/300 [00:01<00:00, 247.00it/s]\n"
     ]
    },
    {
     "name": "stdout",
     "output_type": "stream",
     "text": [
      "105\n",
      "Started working on: get_model_alignment_12\n"
     ]
    },
    {
     "name": "stderr",
     "output_type": "stream",
     "text": [
      "100%|██████████| 300/300 [00:01<00:00, 247.12it/s]\n"
     ]
    },
    {
     "name": "stdout",
     "output_type": "stream",
     "text": [
      "105\n",
      "Started working on: get_model_alignment_13\n"
     ]
    },
    {
     "name": "stderr",
     "output_type": "stream",
     "text": [
      "100%|██████████| 300/300 [00:01<00:00, 247.41it/s]\n"
     ]
    },
    {
     "name": "stdout",
     "output_type": "stream",
     "text": [
      "105\n",
      "Started working on: get_model_alignment_14\n"
     ]
    },
    {
     "name": "stderr",
     "output_type": "stream",
     "text": [
      "100%|██████████| 300/300 [00:01<00:00, 247.22it/s]\n"
     ]
    },
    {
     "name": "stdout",
     "output_type": "stream",
     "text": [
      "105\n",
      "Started working on: get_model_alignment_15\n"
     ]
    },
    {
     "name": "stderr",
     "output_type": "stream",
     "text": [
      "100%|██████████| 300/300 [00:01<00:00, 246.07it/s]\n"
     ]
    },
    {
     "name": "stdout",
     "output_type": "stream",
     "text": [
      "105\n",
      "Started working on: get_model_alignment_16\n"
     ]
    },
    {
     "name": "stderr",
     "output_type": "stream",
     "text": [
      "100%|██████████| 300/300 [00:01<00:00, 244.19it/s]\n"
     ]
    },
    {
     "name": "stdout",
     "output_type": "stream",
     "text": [
      "105\n",
      "Started working on: get_model_alignment_17\n"
     ]
    },
    {
     "name": "stderr",
     "output_type": "stream",
     "text": [
      "100%|██████████| 300/300 [00:01<00:00, 246.08it/s]\n"
     ]
    },
    {
     "name": "stdout",
     "output_type": "stream",
     "text": [
      "105\n",
      "Started working on: get_model_alignment_18\n"
     ]
    },
    {
     "name": "stderr",
     "output_type": "stream",
     "text": [
      "100%|██████████| 300/300 [00:01<00:00, 241.08it/s]\n"
     ]
    },
    {
     "name": "stdout",
     "output_type": "stream",
     "text": [
      "105\n",
      "Started working on: get_model_alignment_19\n"
     ]
    },
    {
     "name": "stderr",
     "output_type": "stream",
     "text": [
      "100%|██████████| 300/300 [00:01<00:00, 244.71it/s]\n"
     ]
    },
    {
     "name": "stdout",
     "output_type": "stream",
     "text": [
      "105\n",
      "Started working on: get_model_alignment_20\n"
     ]
    },
    {
     "name": "stderr",
     "output_type": "stream",
     "text": [
      "100%|██████████| 300/300 [00:01<00:00, 245.68it/s]\n"
     ]
    },
    {
     "name": "stdout",
     "output_type": "stream",
     "text": [
      "105\n",
      "Started working on: get_model_alignment_21\n"
     ]
    },
    {
     "name": "stderr",
     "output_type": "stream",
     "text": [
      "100%|██████████| 300/300 [00:01<00:00, 245.48it/s]\n"
     ]
    },
    {
     "name": "stdout",
     "output_type": "stream",
     "text": [
      "105\n",
      "Started working on: get_model_alignment_22\n"
     ]
    },
    {
     "name": "stderr",
     "output_type": "stream",
     "text": [
      "100%|██████████| 300/300 [00:01<00:00, 245.35it/s]\n"
     ]
    },
    {
     "name": "stdout",
     "output_type": "stream",
     "text": [
      "105\n",
      "Started working on: get_model_alignment_23\n"
     ]
    },
    {
     "name": "stderr",
     "output_type": "stream",
     "text": [
      "100%|██████████| 300/300 [00:01<00:00, 245.53it/s]\n"
     ]
    },
    {
     "name": "stdout",
     "output_type": "stream",
     "text": [
      "105\n",
      "Started working on: get_model_alignment_24\n"
     ]
    },
    {
     "name": "stderr",
     "output_type": "stream",
     "text": [
      "100%|██████████| 300/300 [00:01<00:00, 212.38it/s]\n"
     ]
    },
    {
     "name": "stdout",
     "output_type": "stream",
     "text": [
      "105\n",
      "Started working on: get_model_alignment_25\n"
     ]
    },
    {
     "name": "stderr",
     "output_type": "stream",
     "text": [
      "100%|██████████| 300/300 [00:01<00:00, 240.54it/s]\n"
     ]
    },
    {
     "name": "stdout",
     "output_type": "stream",
     "text": [
      "105\n",
      "Started working on: get_model_alignment_26\n"
     ]
    },
    {
     "name": "stderr",
     "output_type": "stream",
     "text": [
      "100%|██████████| 300/300 [00:01<00:00, 246.58it/s]\n"
     ]
    },
    {
     "name": "stdout",
     "output_type": "stream",
     "text": [
      "105\n",
      "Started working on: get_model_alignment_27\n"
     ]
    },
    {
     "name": "stderr",
     "output_type": "stream",
     "text": [
      "100%|██████████| 300/300 [00:01<00:00, 246.45it/s]\n"
     ]
    },
    {
     "name": "stdout",
     "output_type": "stream",
     "text": [
      "105\n",
      "Started working on: get_model_alignment_28\n"
     ]
    },
    {
     "name": "stderr",
     "output_type": "stream",
     "text": [
      "100%|██████████| 300/300 [00:01<00:00, 244.94it/s]\n"
     ]
    },
    {
     "name": "stdout",
     "output_type": "stream",
     "text": [
      "105\n",
      "Started working on: get_model_alignment_29\n"
     ]
    },
    {
     "name": "stderr",
     "output_type": "stream",
     "text": [
      "100%|██████████| 300/300 [00:01<00:00, 245.46it/s]\n"
     ]
    },
    {
     "name": "stdout",
     "output_type": "stream",
     "text": [
      "105\n",
      "Started working on: get_model_alignment_30\n"
     ]
    },
    {
     "name": "stderr",
     "output_type": "stream",
     "text": [
      "100%|██████████| 300/300 [00:01<00:00, 245.62it/s]\n"
     ]
    },
    {
     "name": "stdout",
     "output_type": "stream",
     "text": [
      "105\n",
      "Started working on: get_model_alignment_31\n"
     ]
    },
    {
     "name": "stderr",
     "output_type": "stream",
     "text": [
      "100%|██████████| 300/300 [00:01<00:00, 244.79it/s]\n"
     ]
    },
    {
     "name": "stdout",
     "output_type": "stream",
     "text": [
      "105\n",
      "Started working on: get_model_alignment_32\n"
     ]
    },
    {
     "name": "stderr",
     "output_type": "stream",
     "text": [
      "100%|██████████| 300/300 [00:01<00:00, 246.13it/s]\n"
     ]
    },
    {
     "name": "stdout",
     "output_type": "stream",
     "text": [
      "105\n",
      "Started working on: get_model_alignment_33\n"
     ]
    },
    {
     "name": "stderr",
     "output_type": "stream",
     "text": [
      "100%|██████████| 300/300 [00:01<00:00, 230.55it/s]\n"
     ]
    },
    {
     "name": "stdout",
     "output_type": "stream",
     "text": [
      "105\n",
      "Started working on: get_model_alignment_34\n"
     ]
    },
    {
     "name": "stderr",
     "output_type": "stream",
     "text": [
      "100%|██████████| 300/300 [00:01<00:00, 244.10it/s]\n"
     ]
    },
    {
     "name": "stdout",
     "output_type": "stream",
     "text": [
      "105\n",
      "Started working on: get_model_alignment_35\n"
     ]
    },
    {
     "name": "stderr",
     "output_type": "stream",
     "text": [
      "100%|██████████| 300/300 [00:01<00:00, 233.05it/s]\n"
     ]
    },
    {
     "name": "stdout",
     "output_type": "stream",
     "text": [
      "105\n",
      "Started working on: get_model_alignment_36\n"
     ]
    },
    {
     "name": "stderr",
     "output_type": "stream",
     "text": [
      "100%|██████████| 300/300 [00:01<00:00, 246.77it/s]\n"
     ]
    },
    {
     "name": "stdout",
     "output_type": "stream",
     "text": [
      "105\n",
      "Started working on: get_model_alignment_37\n"
     ]
    },
    {
     "name": "stderr",
     "output_type": "stream",
     "text": [
      "100%|██████████| 300/300 [00:01<00:00, 245.88it/s]\n"
     ]
    },
    {
     "name": "stdout",
     "output_type": "stream",
     "text": [
      "105\n",
      "Started working on: get_model_alignment_38\n"
     ]
    },
    {
     "name": "stderr",
     "output_type": "stream",
     "text": [
      "100%|██████████| 300/300 [00:01<00:00, 247.09it/s]\n"
     ]
    },
    {
     "name": "stdout",
     "output_type": "stream",
     "text": [
      "105\n",
      "Started working on: get_model_alignment_39\n"
     ]
    },
    {
     "name": "stderr",
     "output_type": "stream",
     "text": [
      "100%|██████████| 300/300 [00:01<00:00, 246.80it/s]"
     ]
    },
    {
     "name": "stdout",
     "output_type": "stream",
     "text": [
      "105\n"
     ]
    },
    {
     "name": "stderr",
     "output_type": "stream",
     "text": [
      "\n"
     ]
    }
   ],
   "source": [
    "### Test functions\n",
    "\n",
    "n = 100 #Sample number\n",
    "\n",
    "def alignment_template(fun, name, match=None, mismatch=None, gap_penalty=None):\n",
    "    results[name] = helper_get_n_similar_trajectories(\n",
    "        sections, fun, n, name, match=match, mismatch=mismatch, gap_penalty=gap_penalty)\n",
    "\n",
    "control_set = helper_get_n_similar_trajectories(trajectories, get_overall_similartity, n, 'control_set')\n",
    "# alignment_template(get_local_alignment, 'get_local_alignment_test_1_0_0', 1, 0, 0)\n",
    "# alignment_template(get_local_alignment, 'get_local_alignment_test_1_-1_-1', 1, -1, -1)\n",
    "# alignment_template(get_local_alignment, 'get_local_alignment_test_1_-1_0', 1, -1, 0)\n",
    "# alignment_template(get_local_alignment, 'get_local_alignment_test_1_0_-1', 1, 0, -1)\n",
    "# results['get_model_alignment1'] = get_model_alignment(sections, n, 100, 100)\n",
    "# results['get_model_alignment2'] = get_model_alignment(sections, n, 50, 50)\n",
    "# results['get_model_alignment3'] = get_model_alignment(sections, n, 20, 20)\n",
    "# results['get_model_alignment4'] = get_model_alignment(sections, n, 11, 100)\n",
    "for j in range(40):\n",
    "    name = 'get_model_alignment_' + str(j)\n",
    "    results[name] = get_model_alignment(sections, threshold=j, max_length=100, order_reverse=True, n=n, name=name)\n",
    "\n",
    "\n",
    "\n",
    "#get_local_stretch_alignment_test = helper_get_n_similar_trajectories(sections, get_local_stretch_alignment, n, 'get_local_stretch_alignment_test')"
   ]
  },
  {
   "cell_type": "code",
   "execution_count": 11,
   "id": "22c1f7b4",
   "metadata": {
    "scrolled": true
   },
   "outputs": [
    {
     "data": {
      "text/plain": [
       "{'get_model_alignment_0': 12,\n",
       " 'get_model_alignment_1': 12,\n",
       " 'get_model_alignment_2': 12,\n",
       " 'get_model_alignment_3': 12,\n",
       " 'get_model_alignment_4': 12,\n",
       " 'get_model_alignment_5': 12,\n",
       " 'get_model_alignment_6': 12,\n",
       " 'get_model_alignment_7': 12,\n",
       " 'get_model_alignment_8': 12,\n",
       " 'get_model_alignment_9': 12,\n",
       " 'get_model_alignment_10': 12,\n",
       " 'get_model_alignment_11': 12,\n",
       " 'get_model_alignment_12': 12,\n",
       " 'get_model_alignment_13': 8,\n",
       " 'get_model_alignment_14': 8,\n",
       " 'get_model_alignment_15': 8,\n",
       " 'get_model_alignment_16': 8,\n",
       " 'get_model_alignment_17': 8,\n",
       " 'get_model_alignment_18': 8,\n",
       " 'get_model_alignment_19': 8,\n",
       " 'get_model_alignment_20': 8,\n",
       " 'get_model_alignment_21': 8,\n",
       " 'get_model_alignment_22': 8,\n",
       " 'get_model_alignment_23': 8,\n",
       " 'get_model_alignment_24': 8,\n",
       " 'get_model_alignment_25': 8,\n",
       " 'get_model_alignment_26': 8,\n",
       " 'get_model_alignment_27': 8,\n",
       " 'get_model_alignment_28': 8,\n",
       " 'get_model_alignment_29': 8,\n",
       " 'get_model_alignment_30': 8,\n",
       " 'get_model_alignment_31': 8,\n",
       " 'get_model_alignment_32': 8,\n",
       " 'get_model_alignment_33': 7,\n",
       " 'get_model_alignment_34': 7,\n",
       " 'get_model_alignment_35': 7,\n",
       " 'get_model_alignment_36': 7,\n",
       " 'get_model_alignment_37': 6,\n",
       " 'get_model_alignment_38': 6,\n",
       " 'get_model_alignment_39': 6}"
      ]
     },
     "execution_count": 11,
     "metadata": {},
     "output_type": "execute_result"
    }
   ],
   "source": [
    "### Find out how many inside treshold n are the same\n",
    "\n",
    "def compare_pairs(pair1, pair2):\n",
    "    return pair1[0] == pair2[0] and pair1[1] == pair2[1] or pair1[0] == pair2[1] and pair1[1] == pair2[0]\n",
    "\n",
    "results_score = {}\n",
    "\n",
    "for res in control_set:\n",
    "    for function in results:\n",
    "        elements = results[function]\n",
    "        for elem in elements:\n",
    "            if compare_pairs(res, elem):\n",
    "                try:\n",
    "                    results_score[function] += 1\n",
    "                except:\n",
    "                    results_score[function] = 1\n",
    "                \n",
    "results_score\n"
   ]
  },
  {
   "cell_type": "code",
   "execution_count": null,
   "id": "c28d1b93",
   "metadata": {},
   "outputs": [],
   "source": []
  },
  {
   "cell_type": "code",
   "execution_count": null,
   "id": "a7401a08",
   "metadata": {},
   "outputs": [],
   "source": []
  }
 ],
 "metadata": {
  "kernelspec": {
   "display_name": "Python 3",
   "language": "python",
   "name": "python3"
  },
  "language_info": {
   "codemirror_mode": {
    "name": "ipython",
    "version": 3
   },
   "file_extension": ".py",
   "mimetype": "text/x-python",
   "name": "python",
   "nbconvert_exporter": "python",
   "pygments_lexer": "ipython3",
   "version": "3.9.6"
  }
 },
 "nbformat": 4,
 "nbformat_minor": 5
}
