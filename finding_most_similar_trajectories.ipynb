{
 "cells": [
  {
   "cell_type": "code",
   "execution_count": 1,
   "id": "d0335573",
   "metadata": {},
   "outputs": [
    {
     "name": "stdout",
     "output_type": "stream",
     "text": [
      "You are using the recommended version for this script!\n"
     ]
    }
   ],
   "source": [
    "import platform\n",
    "\n",
    "print('You are using the recommended version for this script!' \n",
    "      if platform.python_version() == '3.9.6' else \n",
    "      'You are not using the recommended version for this script!')"
   ]
  },
  {
   "cell_type": "code",
   "execution_count": 2,
   "id": "6eec1749",
   "metadata": {},
   "outputs": [],
   "source": [
    "###TODO NB! There are no methods, all should be referred to as functions!!!!!"
   ]
  },
  {
   "cell_type": "code",
   "execution_count": 3,
   "id": "2a2cf584",
   "metadata": {},
   "outputs": [],
   "source": [
    "import pandas as pd\n",
    "from tqdm import tqdm\n",
    "import ast\n",
    "import itertools\n",
    "import operator"
   ]
  },
  {
   "cell_type": "code",
   "execution_count": 4,
   "id": "cf2cd94a",
   "metadata": {},
   "outputs": [],
   "source": [
    "### Functions for getting data from files\n",
    "\n",
    "## Get raw data from file\n",
    "def get_data_from_file(file_name):\n",
    "    file = open(file_name)\n",
    "    content = file.read()\n",
    "    lines = content.split('\\n')\n",
    "    file.close()\n",
    "    \n",
    "    return lines\n",
    "\n",
    "## Get trajectories (default file name is trajectories.csv)\n",
    "def get_trajectories(file_name = 'trajectories.csv'):\n",
    "    trajectories = dict()\n",
    "    lines = get_data_from_file(file_name)\n",
    "    for (index, line) in enumerate(lines):\n",
    "        cols = line.split('\\t')\n",
    "        if index == 0 or len(cols) <= 1: #Ignore title row and empty rows\n",
    "            continue\n",
    "        trajectories[cols[0]] = cols[1:]\n",
    "    \n",
    "    return trajectories        \n",
    "        \n",
    "## Get sections (default file name is diagnoses.csv)\n",
    "def get_sections(file_name = 'diagnoses.csv'):\n",
    "    person_sections = dict()\n",
    "    lines = get_data_from_file(file_name)\n",
    "    for (index, line) in enumerate(lines):\n",
    "        cols = line.split('\\t')\n",
    "        if index == 0 or len(cols) <= 1: #Ignore title row and empty rows\n",
    "            continue\n",
    "        sections = ast.literal_eval(cols[-2])\n",
    "        person_sections[cols[0]] = sections\n",
    "        \n",
    "    return person_sections"
   ]
  },
  {
   "cell_type": "code",
   "execution_count": 5,
   "id": "8429ab2c",
   "metadata": {},
   "outputs": [],
   "source": [
    "### Create containers for data\n",
    "\n",
    "# sections = get_sections()\n",
    "# trajectories = get_trajectories()\n",
    "\n",
    "sections = get_sections('diagnoses_1.csv')\n",
    "trajectories = get_trajectories('trajectories_1.csv')"
   ]
  },
  {
   "cell_type": "code",
   "execution_count": 6,
   "id": "dff2be30",
   "metadata": {},
   "outputs": [],
   "source": [
    "### Helper methods for testing comparing methods\n",
    "\n",
    "## Return n number of best matching trajectory pairs \n",
    "## (if n is bigger than the length of trajectories, than all trajectories will be returned)\n",
    "def helper_get_n_similar_trajectories(data, compare_function, n=100, name='funtion', **kwargs):\n",
    "    pairs = list(itertools.combinations(data, 2)) #Get all possible pairs\n",
    "    results = {}\n",
    "    print('Started working on: %s' % (name))\n",
    "    for pair in tqdm(pairs):\n",
    "        results[pair] = compare_function(data[pair[0]], data[pair[1]], **kwargs)\n",
    "        \n",
    "    return dict(sorted(results.items(), key=operator.itemgetter(1), reverse=True)[:n])"
   ]
  },
  {
   "cell_type": "code",
   "execution_count": 7,
   "id": "33967b5a",
   "metadata": {},
   "outputs": [],
   "source": [
    "### Function for geting the number of matches between two trajectories\n",
    "\n",
    "def get_overall_similartity(t1, t2):\n",
    "    score = 0\n",
    "    for t in t1:\n",
    "        if t in t2:\n",
    "            score += 1\n",
    "    \n",
    "    return score"
   ]
  },
  {
   "cell_type": "code",
   "execution_count": 8,
   "id": "411e8906",
   "metadata": {},
   "outputs": [],
   "source": [
    "### Methods for comparing trajectories\n",
    "\n",
    "## Import all algo implementations\n",
    "from local_alignment import get_local_alignment\n",
    "from model_alignment import get_model_alignment"
   ]
  },
  {
   "cell_type": "code",
   "execution_count": 9,
   "id": "6fc9c8ed",
   "metadata": {},
   "outputs": [],
   "source": [
    "results = {}"
   ]
  },
  {
   "cell_type": "code",
   "execution_count": 10,
   "id": "f38e9377",
   "metadata": {
    "scrolled": false
   },
   "outputs": [
    {
     "name": "stdout",
     "output_type": "stream",
     "text": [
      "Started working on: control_set\n"
     ]
    },
    {
     "name": "stderr",
     "output_type": "stream",
     "text": [
      "100%|██████████| 5565/5565 [00:00<00:00, 1689929.17it/s]\n"
     ]
    },
    {
     "name": "stdout",
     "output_type": "stream",
     "text": [
      "Started working on: get_local_alignment_test_1_0_0\n"
     ]
    },
    {
     "name": "stderr",
     "output_type": "stream",
     "text": [
      "100%|██████████| 44850/44850 [03:39<00:00, 204.51it/s]\n"
     ]
    },
    {
     "name": "stdout",
     "output_type": "stream",
     "text": [
      "Started working on: get_model_alignment_reverse\n"
     ]
    },
    {
     "name": "stderr",
     "output_type": "stream",
     "text": [
      "100%|██████████| 300/300 [00:01<00:00, 241.95it/s]\n"
     ]
    }
   ],
   "source": [
    "### Test functions\n",
    "\n",
    "n = 100 #Sample number\n",
    "\n",
    "def alignment_template(fun, name, match=None, mismatch=None, gap_penalty=None):\n",
    "    results[name] = helper_get_n_similar_trajectories(\n",
    "        sections, fun, n, name, match=match, mismatch=mismatch, gap_penalty=gap_penalty)\n",
    "\n",
    "control_set = helper_get_n_similar_trajectories(trajectories, get_overall_similartity, n, 'control_set')\n",
    "alignment_template(get_local_alignment, 'get_local_alignment_test_1_0_0', 1, 0, 0)\n",
    "results['get_model_alignment'] = get_model_alignment(\n",
    "                                            sections, \n",
    "                                            motive_limit=(0, 34),\n",
    "                                            max_motive_length=100,\n",
    "                                            result_limit=(0, 999),\n",
    "                                            order_reverse=True, \n",
    "                                            name='get_model_alignment_reverse'\n",
    "                                        )\n",
    "\n"
   ]
  },
  {
   "cell_type": "code",
   "execution_count": 11,
   "id": "22c1f7b4",
   "metadata": {
    "scrolled": true
   },
   "outputs": [
    {
     "name": "stderr",
     "output_type": "stream",
     "text": [
      "100%|██████████| 100/100 [00:01<00:00, 58.96it/s]\n"
     ]
    },
    {
     "data": {
      "text/plain": [
       "{'get_local_alignment_test_1_0_0': 8, 'get_model_alignment': 100}"
      ]
     },
     "execution_count": 11,
     "metadata": {},
     "output_type": "execute_result"
    }
   ],
   "source": [
    "### Find out how many inside treshold n are the same\n",
    "\n",
    "def compare_pairs(pair1, pair2):\n",
    "    return (str(pair1[0]) == str(pair2[0]) and str(pair1[1]) == str(pair2[1]) or \n",
    "                str(pair1[0]) == str(pair2[1]) and str(pair1[1]) == str(pair2[0]))\n",
    "\n",
    "results_score = {}\n",
    "\n",
    "for res in tqdm(control_set):\n",
    "    for function in results:\n",
    "        elements = results[function]\n",
    "        for elem in elements:\n",
    "            if compare_pairs(res, elem):\n",
    "                try:\n",
    "                    results_score[function] += 1\n",
    "                except:\n",
    "                    results_score[function] = 1\n",
    "            else:\n",
    "                try:\n",
    "                    results_score[function] = results_score[function]\n",
    "                except:\n",
    "                    results_score[function] = 0\n",
    "                \n",
    "results_score\n"
   ]
  }
 ],
 "metadata": {
  "kernelspec": {
   "display_name": "Python 3",
   "language": "python",
   "name": "python3"
  },
  "language_info": {
   "codemirror_mode": {
    "name": "ipython",
    "version": 3
   },
   "file_extension": ".py",
   "mimetype": "text/x-python",
   "name": "python",
   "nbconvert_exporter": "python",
   "pygments_lexer": "ipython3",
   "version": "3.9.6"
  }
 },
 "nbformat": 4,
 "nbformat_minor": 5
}
