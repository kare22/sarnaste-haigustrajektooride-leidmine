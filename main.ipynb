{
 "cells": [
  {
   "cell_type": "code",
   "execution_count": 1,
   "id": "28295c5f",
   "metadata": {},
   "outputs": [],
   "source": [
    "###TODO NB! There are no methods, all should be referred to as functions!!!!!"
   ]
  },
  {
   "cell_type": "code",
   "execution_count": 2,
   "id": "2a2cf584",
   "metadata": {},
   "outputs": [],
   "source": [
    "import pandas as pd\n",
    "from tqdm import tqdm\n",
    "import ast\n",
    "import itertools\n",
    "import operator"
   ]
  },
  {
   "cell_type": "code",
   "execution_count": 3,
   "id": "cf2cd94a",
   "metadata": {},
   "outputs": [],
   "source": [
    "### Functions for getting data from files\n",
    "\n",
    "## Get raw data from file\n",
    "def get_data_from_file(file_name):\n",
    "    file = open(file_name)\n",
    "    content = file.read()\n",
    "    lines = content.split('\\n')\n",
    "    file.close()\n",
    "    \n",
    "    return lines\n",
    "\n",
    "## Get trajectories (default file name is trajectories.csv)\n",
    "def get_trajectories(file_name = 'trajectories.csv'):\n",
    "    trajectories = dict()\n",
    "    lines = get_data_from_file(file_name)\n",
    "    for (index, line) in enumerate(lines):\n",
    "        cols = line.split('\\t')\n",
    "        if index == 0 or len(cols) <= 1: #Ignore title row and empty rows\n",
    "            continue\n",
    "        trajectories[cols[0]] = cols[1:]\n",
    "    \n",
    "    return trajectories        \n",
    "        \n",
    "## Get sections (default file name is diagnoses.csv)\n",
    "def get_sections(file_name = 'diagnoses.csv'):\n",
    "    person_sections = dict()\n",
    "    lines = get_data_from_file(file_name)\n",
    "    for (index, line) in enumerate(lines):\n",
    "        cols = line.split('\\t')\n",
    "        if index == 0 or len(cols) <= 1: #Ignore title row and empty rows\n",
    "            continue\n",
    "        sections = ast.literal_eval(cols[-2])\n",
    "        person_sections[cols[0]] = sections\n",
    "        \n",
    "    return person_sections"
   ]
  },
  {
   "cell_type": "code",
   "execution_count": 4,
   "id": "7a1469b3",
   "metadata": {},
   "outputs": [],
   "source": [
    "### Create containers for data\n",
    "\n",
    "sections = get_sections()\n",
    "trajectories = get_trajectories()"
   ]
  },
  {
   "cell_type": "code",
   "execution_count": 5,
   "id": "2326e3a0",
   "metadata": {},
   "outputs": [],
   "source": [
    "### Helper methods for testing comparing methods\n",
    "\n",
    "## Return n number of best matching trajectory pairs \n",
    "## (if n is bigger than the length of trajectories, than all trajectories will be returned)\n",
    "def helper_get_n_similar_trajectories(data, compare_function, n=100, name='funtion', **kwargs):\n",
    "    pairs = list(itertools.combinations(data, 2)) #Get all possible pairs\n",
    "    results = {}\n",
    "    percent = 0\n",
    "    print('Started working on: %s' % (name))\n",
    "    for pair in tqdm(pairs):\n",
    "        results[pair] = compare_function(data[pair[0]], data[pair[1]], **kwargs)\n",
    "        \n",
    "    return dict(sorted(results.items(), key=operator.itemgetter(1), reverse=True)[:n])"
   ]
  },
  {
   "cell_type": "code",
   "execution_count": 6,
   "id": "ae041dfc",
   "metadata": {},
   "outputs": [],
   "source": [
    "### Function for geting the number of matches between two trajectories\n",
    "\n",
    "def get_overall_similartity(t1, t2):\n",
    "    score = 0\n",
    "    for t in t1:\n",
    "        if t in t2:\n",
    "            score += 1\n",
    "    \n",
    "    return score"
   ]
  },
  {
   "cell_type": "code",
   "execution_count": 7,
   "id": "411e8906",
   "metadata": {},
   "outputs": [],
   "source": [
    "### Methods for comparing trajectories\n",
    "\n",
    "## Import all algo implementations\n",
    "from local_alignment import get_local_alignment\n",
    "from local_stretch_alignment import get_local_stretch_alignment"
   ]
  },
  {
   "cell_type": "code",
   "execution_count": 8,
   "id": "f38e9377",
   "metadata": {
    "scrolled": false
   },
   "outputs": [
    {
     "name": "stdout",
     "output_type": "stream",
     "text": [
      "Started working on: control_set\n"
     ]
    },
    {
     "name": "stderr",
     "output_type": "stream",
     "text": [
      "100%|██████████| 5565/5565 [00:00<00:00, 1688462.22it/s]\n"
     ]
    },
    {
     "name": "stdout",
     "output_type": "stream",
     "text": [
      "Started working on: get_local_alignment_test\n"
     ]
    },
    {
     "name": "stderr",
     "output_type": "stream",
     "text": [
      "100%|██████████| 44850/44850 [03:38<00:00, 205.53it/s]\n"
     ]
    },
    {
     "name": "stdout",
     "output_type": "stream",
     "text": [
      "Started working on: get_local_alignment_test_1\n"
     ]
    },
    {
     "name": "stderr",
     "output_type": "stream",
     "text": [
      "100%|██████████| 44850/44850 [03:39<00:00, 204.71it/s]\n"
     ]
    },
    {
     "name": "stdout",
     "output_type": "stream",
     "text": [
      "Started working on: get_local_alignment_test_2\n"
     ]
    },
    {
     "name": "stderr",
     "output_type": "stream",
     "text": [
      "100%|██████████| 44850/44850 [23:58<00:00, 31.18it/s]   \n"
     ]
    },
    {
     "name": "stdout",
     "output_type": "stream",
     "text": [
      "Started working on: get_local_alignment_test_3\n"
     ]
    },
    {
     "name": "stderr",
     "output_type": "stream",
     "text": [
      "100%|██████████| 44850/44850 [05:58<00:00, 124.95it/s] \n"
     ]
    },
    {
     "name": "stdout",
     "output_type": "stream",
     "text": [
      "Started working on: get_local_alignment_test_4\n"
     ]
    },
    {
     "name": "stderr",
     "output_type": "stream",
     "text": [
      "100%|██████████| 44850/44850 [03:44<00:00, 200.21it/s]\n"
     ]
    },
    {
     "name": "stdout",
     "output_type": "stream",
     "text": [
      "Started working on: get_local_alignment_test_5\n"
     ]
    },
    {
     "name": "stderr",
     "output_type": "stream",
     "text": [
      "100%|██████████| 44850/44850 [03:42<00:00, 201.48it/s]\n"
     ]
    }
   ],
   "source": [
    "### Test functions\n",
    "\n",
    "n = 100 #Sample number\n",
    "\n",
    "def local_alignment_template(name, match, mismatch, gap_penalty):\n",
    "    return helper_get_n_similar_trajectories(\n",
    "        sections, get_local_alignment, n, name, match=match, mismatch=mismatch, gap_penalty=gap_penalty)\n",
    "\n",
    "control_set = helper_get_n_similar_trajectories(trajectories, get_overall_similartity, n, 'control_set')\n",
    "get_local_alignment_test = local_alignment_template('get_local_alignment_test', 1, 0, 0)\n",
    "get_local_alignment_test_1 = local_alignment_template('get_local_alignment_test_1', 1, 0, 0)\n",
    "get_local_alignment_test_2 = local_alignment_template('get_local_alignment_test_2', 1, -1, 0)\n",
    "get_local_alignment_test_3 = local_alignment_template('get_local_alignment_test_3', 4, -2, -1)\n",
    "get_local_alignment_test_4 = local_alignment_template('get_local_alignment_test_4', 4, -1, -2)\n",
    "get_local_alignment_test_5 = local_alignment_template('get_local_alignment_test_5', 1, -1, -1)\n",
    "\n",
    "#get_local_stretch_alignment_test = helper_get_n_similar_trajectories(sections, get_local_stretch_alignment, n, 'get_local_stretch_alignment_test')"
   ]
  },
  {
   "cell_type": "code",
   "execution_count": 9,
   "id": "b96aaf49",
   "metadata": {},
   "outputs": [
    {
     "data": {
      "text/plain": [
       "{'get_local_alignment_test': 8,\n",
       " 'get_local_alignment_test_1': 8,\n",
       " 'get_local_alignment_test_2': 8,\n",
       " 'get_local_alignment_test_3': 2,\n",
       " 'get_local_alignment_test_4': 8,\n",
       " 'get_local_alignment_test_5': 7}"
      ]
     },
     "execution_count": 9,
     "metadata": {},
     "output_type": "execute_result"
    }
   ],
   "source": [
    "### Find out how many inside treshold n are the same\n",
    "\n",
    "def compare_pairs(pair1, pair2):\n",
    "    return pair1[0] == pair2[0] and pair1[1] == pair2[1] or pair1[0] == pair2[1] and pair1[1] == pair2[0]\n",
    "\n",
    "results_for = {\n",
    "    'get_local_alignment_test': 0,\n",
    "    'get_local_alignment_test_1': 0,\n",
    "    'get_local_alignment_test_2': 0,\n",
    "    'get_local_alignment_test_3': 0,\n",
    "    'get_local_alignment_test_4': 0,\n",
    "    'get_local_alignment_test_5': 0,\n",
    "    #'get_local_stretch_alignment_test': 0\n",
    "}\n",
    "\n",
    "for res in control_set:\n",
    "    for fun in results_for:\n",
    "        elements = list(globals()[fun].keys())\n",
    "        for elem in elements:\n",
    "            if compare_pairs(res, elem):\n",
    "                results_for[fun] += 1\n",
    "                \n",
    "results_for\n"
   ]
  }
 ],
 "metadata": {
  "kernelspec": {
   "display_name": "Python 3",
   "language": "python",
   "name": "python3"
  },
  "language_info": {
   "codemirror_mode": {
    "name": "ipython",
    "version": 3
   },
   "file_extension": ".py",
   "mimetype": "text/x-python",
   "name": "python",
   "nbconvert_exporter": "python",
   "pygments_lexer": "ipython3",
   "version": "3.9.6"
  }
 },
 "nbformat": 4,
 "nbformat_minor": 5
}
