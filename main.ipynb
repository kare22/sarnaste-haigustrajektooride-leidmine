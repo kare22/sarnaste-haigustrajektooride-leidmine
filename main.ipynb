{
 "cells": [
  {
   "cell_type": "code",
   "execution_count": 36,
   "id": "2a2cf584",
   "metadata": {},
   "outputs": [],
   "source": [
    "import pandas as pd\n",
    "import ast\n",
    "import itertools\n",
    "import operator"
   ]
  },
  {
   "cell_type": "code",
   "execution_count": 21,
   "id": "cf2cd94a",
   "metadata": {},
   "outputs": [],
   "source": [
    "### Functions for getting data from files\n",
    "\n",
    "## Get raw data from file\n",
    "def get_data_from_file(file_name):\n",
    "    file = open(file_name)\n",
    "    content = file.read()\n",
    "    lines = content.split('\\n')\n",
    "    file.close()\n",
    "    \n",
    "    return lines\n",
    "\n",
    "## Get trajectories (default file name is trajectories.csv)\n",
    "def get_trajectories(file_name = 'trajectories.csv'):\n",
    "    trajectories = dict()\n",
    "    lines = get_data_from_file(file_name)\n",
    "    for (index, line) in enumerate(lines):\n",
    "        cols = line.split('\\t')\n",
    "        if index == 0 or len(cols) <= 1: #Ignore title row and empty rows\n",
    "            continue\n",
    "        trajectories[cols[0]] = cols[1:]\n",
    "    \n",
    "    return trajectories        \n",
    "        \n",
    "## Get sections (default file name is diagnoses.csv)\n",
    "def get_sections(file_name = 'diagnoses.csv'):\n",
    "    person_sections = dict()\n",
    "    lines = get_data_from_file(file_name)\n",
    "    for (index, line) in enumerate(lines):\n",
    "        cols = line.split('\\t')\n",
    "        if index == 0 or len(cols) <= 1: #Ignore title row and empty rows\n",
    "            continue\n",
    "        sections = ast.literal_eval(cols[-2])\n",
    "        person_sections[cols[0]] = sections\n",
    "        \n",
    "    return person_sections"
   ]
  },
  {
   "cell_type": "code",
   "execution_count": 25,
   "id": "17325f36",
   "metadata": {},
   "outputs": [],
   "source": [
    "### Create containers for data\n",
    "\n",
    "sections = get_sections()\n",
    "trajectories = get_trajectories()"
   ]
  },
  {
   "cell_type": "code",
   "execution_count": 38,
   "id": "bbc86a54",
   "metadata": {},
   "outputs": [
    {
     "ename": "AttributeError",
     "evalue": "'dict' object has no attribute 'iteritems'",
     "output_type": "error",
     "traceback": [
      "\u001b[0;31m---------------------------------------------------------------------------\u001b[0m",
      "\u001b[0;31mAttributeError\u001b[0m                            Traceback (most recent call last)",
      "\u001b[0;32m<ipython-input-38-a8ef2343a7e2>\u001b[0m in \u001b[0;36m<module>\u001b[0;34m\u001b[0m\n\u001b[1;32m     19\u001b[0m     \u001b[0;32mreturn\u001b[0m \u001b[0mdict\u001b[0m\u001b[0;34m(\u001b[0m\u001b[0msorted\u001b[0m\u001b[0;34m(\u001b[0m\u001b[0mresults\u001b[0m\u001b[0;34m.\u001b[0m\u001b[0miteritems\u001b[0m\u001b[0;34m(\u001b[0m\u001b[0;34m)\u001b[0m\u001b[0;34m,\u001b[0m \u001b[0mkey\u001b[0m\u001b[0;34m=\u001b[0m\u001b[0moperator\u001b[0m\u001b[0;34m.\u001b[0m\u001b[0mitemgetter\u001b[0m\u001b[0;34m(\u001b[0m\u001b[0;36m1\u001b[0m\u001b[0;34m)\u001b[0m\u001b[0;34m,\u001b[0m \u001b[0mreverse\u001b[0m\u001b[0;34m=\u001b[0m\u001b[0;32mTrue\u001b[0m\u001b[0;34m)\u001b[0m\u001b[0;34m[\u001b[0m\u001b[0;34m:\u001b[0m\u001b[0mn\u001b[0m\u001b[0;34m]\u001b[0m\u001b[0;34m)\u001b[0m\u001b[0;34m\u001b[0m\u001b[0;34m\u001b[0m\u001b[0m\n\u001b[1;32m     20\u001b[0m \u001b[0;34m\u001b[0m\u001b[0m\n\u001b[0;32m---> 21\u001b[0;31m \u001b[0mcontrol_set\u001b[0m \u001b[0;34m=\u001b[0m \u001b[0mget_control_set\u001b[0m\u001b[0;34m(\u001b[0m\u001b[0mtrajectories\u001b[0m\u001b[0;34m)\u001b[0m\u001b[0;34m\u001b[0m\u001b[0;34m\u001b[0m\u001b[0m\n\u001b[0m\u001b[1;32m     22\u001b[0m \u001b[0;34m\u001b[0m\u001b[0m\n\u001b[1;32m     23\u001b[0m \u001b[0mcontrol_set\u001b[0m\u001b[0;34m\u001b[0m\u001b[0;34m\u001b[0m\u001b[0m\n",
      "\u001b[0;32m<ipython-input-38-a8ef2343a7e2>\u001b[0m in \u001b[0;36mget_control_set\u001b[0;34m(control_items, n)\u001b[0m\n\u001b[1;32m     17\u001b[0m         \u001b[0mresults\u001b[0m\u001b[0;34m[\u001b[0m\u001b[0mpair\u001b[0m\u001b[0;34m]\u001b[0m \u001b[0;34m=\u001b[0m \u001b[0mget_overall_similartity\u001b[0m\u001b[0;34m(\u001b[0m\u001b[0mpair\u001b[0m\u001b[0;34m[\u001b[0m\u001b[0;36m0\u001b[0m\u001b[0;34m]\u001b[0m\u001b[0;34m,\u001b[0m \u001b[0mpair\u001b[0m\u001b[0;34m[\u001b[0m\u001b[0;36m1\u001b[0m\u001b[0;34m]\u001b[0m\u001b[0;34m)\u001b[0m\u001b[0;34m\u001b[0m\u001b[0;34m\u001b[0m\u001b[0m\n\u001b[1;32m     18\u001b[0m \u001b[0;34m\u001b[0m\u001b[0m\n\u001b[0;32m---> 19\u001b[0;31m     \u001b[0;32mreturn\u001b[0m \u001b[0mdict\u001b[0m\u001b[0;34m(\u001b[0m\u001b[0msorted\u001b[0m\u001b[0;34m(\u001b[0m\u001b[0mresults\u001b[0m\u001b[0;34m.\u001b[0m\u001b[0miteritems\u001b[0m\u001b[0;34m(\u001b[0m\u001b[0;34m)\u001b[0m\u001b[0;34m,\u001b[0m \u001b[0mkey\u001b[0m\u001b[0;34m=\u001b[0m\u001b[0moperator\u001b[0m\u001b[0;34m.\u001b[0m\u001b[0mitemgetter\u001b[0m\u001b[0;34m(\u001b[0m\u001b[0;36m1\u001b[0m\u001b[0;34m)\u001b[0m\u001b[0;34m,\u001b[0m \u001b[0mreverse\u001b[0m\u001b[0;34m=\u001b[0m\u001b[0;32mTrue\u001b[0m\u001b[0;34m)\u001b[0m\u001b[0;34m[\u001b[0m\u001b[0;34m:\u001b[0m\u001b[0mn\u001b[0m\u001b[0;34m]\u001b[0m\u001b[0;34m)\u001b[0m\u001b[0;34m\u001b[0m\u001b[0;34m\u001b[0m\u001b[0m\n\u001b[0m\u001b[1;32m     20\u001b[0m \u001b[0;34m\u001b[0m\u001b[0m\n\u001b[1;32m     21\u001b[0m \u001b[0mcontrol_set\u001b[0m \u001b[0;34m=\u001b[0m \u001b[0mget_control_set\u001b[0m\u001b[0;34m(\u001b[0m\u001b[0mtrajectories\u001b[0m\u001b[0;34m)\u001b[0m\u001b[0;34m\u001b[0m\u001b[0;34m\u001b[0m\u001b[0m\n",
      "\u001b[0;31mAttributeError\u001b[0m: 'dict' object has no attribute 'iteritems'"
     ]
    }
   ],
   "source": [
    "### Generate control data set\n",
    "\n",
    "def get_overall_similartity(t1, t2):\n",
    "    score = 0\n",
    "    for t in t1:\n",
    "        if t in t2:\n",
    "            score += 1\n",
    "    \n",
    "    return score\n",
    "\n",
    "## Return n number of best matching trajectory pairs \n",
    "## (if n is bigger than the length of trajectories, than all trajectories will be returned)\n",
    "def get_control_set(control_items, n=100):\n",
    "    pairs = list(itertools.combinations(control_items, 2)) #Get all possible pairs\n",
    "    results = {}\n",
    "    for pair in pairs:\n",
    "        results[pair] = get_overall_similartity(pair[0], pair[1])\n",
    "        \n",
    "    return dict(sorted(results.iteritems(), key=operator.itemgetter(1), reverse=True)[:n])\n",
    "\n",
    "control_set = get_control_set(trajectories)\n",
    "\n",
    "control_set"
   ]
  },
  {
   "cell_type": "code",
   "execution_count": 18,
   "id": "411e8906",
   "metadata": {},
   "outputs": [
    {
     "data": {
      "text/plain": [
       "2"
      ]
     },
     "execution_count": 18,
     "metadata": {},
     "output_type": "execute_result"
    }
   ],
   "source": [
    "### Methods for comparing trajectories\n",
    "\n",
    "\n",
    "## Get local alignment between person1(horizontal) and person2(vertical)\n",
    "def get_local_alignment(p1, p2):\n",
    "    #Parameters\n",
    "    match = 1\n",
    "    mismatch = 0\n",
    "    gap_penalty = -1\n",
    "    \n",
    "    #Initialisation\n",
    "    matrix = [[0 for i in range(len(p2) + 1)] for j in range(len(p1) + 1)]\n",
    "    for i in range(len(p1) + 1):\n",
    "        matrix[i][0] = i * gap_penalty\n",
    "    for i in range(len(p2) + 1):\n",
    "        matrix[0][i] = i * gap_penalty\n",
    "        \n",
    "    #Fill\n",
    "    for i in range(len(p1)):\n",
    "        for j in range(len(p2)):\n",
    "            p1_diagnosis = p1[i][0]\n",
    "            p2_diagnosis = p2[j][0]\n",
    "            left = matrix[i][j+1] + gap_penalty\n",
    "            right = matrix[i+1][j] + gap_penalty\n",
    "            diagonal = matrix[i][j] + (match if p1_diagnosis == p2_diagnosis else mismatch)\n",
    "            matrix[i+1][j+1] = max(left, right, diagonal, 0)\n",
    "    \n",
    "    #Find the biggest alignment value\n",
    "    MAX = None\n",
    "    for row in matrix:\n",
    "        row_max = max(row)\n",
    "        MAX = row_max if MAX == None or row_max > MAX else MAX\n",
    "        \n",
    "    return MAX\n",
    "\n",
    "get_local_alignment(sections['48'], sections['2'])"
   ]
  },
  {
   "cell_type": "code",
   "execution_count": 94,
   "id": "43578034",
   "metadata": {},
   "outputs": [
    {
     "data": {
      "text/plain": [
       "4"
      ]
     },
     "execution_count": 94,
     "metadata": {},
     "output_type": "execute_result"
    }
   ],
   "source": [
    "### NB comparing people, there is no need for a matrix, because comparing p1 and p2 is the same as comparing p2 and p1\n"
   ]
  },
  {
   "cell_type": "code",
   "execution_count": 105,
   "id": "000597e7",
   "metadata": {},
   "outputs": [
    {
     "ename": "TypeError",
     "evalue": "'<' not supported between instances of 'int' and 'NoneType'",
     "output_type": "error",
     "traceback": [
      "\u001b[0;31m---------------------------------------------------------------------------\u001b[0m",
      "\u001b[0;31mTypeError\u001b[0m                                 Traceback (most recent call last)",
      "\u001b[0;32m<ipython-input-105-05a4643a0bd5>\u001b[0m in \u001b[0;36m<module>\u001b[0;34m\u001b[0m\n\u001b[0;32m----> 1\u001b[0;31m \u001b[0;36m2\u001b[0m \u001b[0;34m<\u001b[0m \u001b[0;32mNone\u001b[0m\u001b[0;34m\u001b[0m\u001b[0;34m\u001b[0m\u001b[0m\n\u001b[0m",
      "\u001b[0;31mTypeError\u001b[0m: '<' not supported between instances of 'int' and 'NoneType'"
     ]
    }
   ],
   "source": [
    "### Find n of the most similar ppl from trajectories and then with the algo and see how similar the result is"
   ]
  },
  {
   "cell_type": "code",
   "execution_count": 9,
   "id": "f38e9377",
   "metadata": {},
   "outputs": [
    {
     "data": {
      "text/plain": [
       "{'1': ['A00', 'G43', 'H65', 'I10', 'K13', 'Z04'],\n",
       " '2': ['A00', 'G43', 'I10', 'N85', 'Z04'],\n",
       " '3': ['A00', 'I10', 'K13', 'N85', 'Z04'],\n",
       " '4': ['A00', 'G43', 'I10', 'N85'],\n",
       " '6': ['A00', 'G43', 'K13', 'N85'],\n",
       " '8': ['G43', 'I10', 'K13'],\n",
       " '9': ['A00', 'G43', 'I10', 'K13'],\n",
       " '10': ['G43', 'I10', 'K13'],\n",
       " '12': ['G43'],\n",
       " '13': ['H65', 'K13'],\n",
       " '14': ['A00', 'I10', 'K13', 'N85', 'Z04'],\n",
       " '15': ['A00', 'G43', 'H65'],\n",
       " '16': ['A00', 'H65', 'K13'],\n",
       " '17': ['A00', 'I10', 'Z04'],\n",
       " '18': ['A00', 'H65', 'I10', 'K13'],\n",
       " '19': ['A00', 'H65', 'K13', 'N85'],\n",
       " '21': ['A00', 'H65', 'I10', 'K13'],\n",
       " '23': ['A00', 'K13', 'Z04'],\n",
       " '24': ['A00', 'G43', 'H65', 'I10', 'K13', 'N85'],\n",
       " '27': ['G43', 'H65', 'I10', 'Z04'],\n",
       " '29': ['A00', 'I10', 'K13', 'Z04'],\n",
       " '30': ['A00', 'G43', 'I10', 'K13'],\n",
       " '31': ['A00', 'G43', 'H65', 'Z04'],\n",
       " '33': ['A00', 'H65', 'K13', 'Z04'],\n",
       " '35': ['A00', 'G43', 'I10', 'K13'],\n",
       " '36': ['A00', 'G43', 'H65', 'I10', 'K13'],\n",
       " '37': ['A00', 'K13', 'Z04'],\n",
       " '44': ['A00', 'G43', 'H65', 'Z04'],\n",
       " '46': ['A00', 'H65', 'I10', 'K13', 'N85', 'Z04'],\n",
       " '48': ['A00', 'G43'],\n",
       " '50': ['A00', 'G43'],\n",
       " '52': ['A00', 'G43', 'K13'],\n",
       " '53': ['A00', 'G43', 'H65', 'K13'],\n",
       " '54': ['A00', 'K13'],\n",
       " '55': ['A00', 'G43', 'H65', 'K13'],\n",
       " '57': ['A00', 'G43', 'I10', 'Z04'],\n",
       " '58': ['A00', 'G43', 'H65', 'I10', 'K13'],\n",
       " '59': ['G43', 'H65', 'K13'],\n",
       " '60': ['A00', 'G43', 'H65', 'K13', 'Z04'],\n",
       " '62': ['A00', 'G43', 'K13', 'Z04'],\n",
       " '65': ['A00', 'G43', 'I10', 'K13', 'N85'],\n",
       " '66': ['A00', 'H65', 'K13'],\n",
       " '67': ['A00', 'G43', 'H65'],\n",
       " '68': ['G43', 'K13', 'Z04'],\n",
       " '69': ['A00', 'G43', 'K13', 'Z04'],\n",
       " '72': ['A00', 'G43', 'H65'],\n",
       " '73': ['A00', 'H65', 'I10', 'K13', 'N85'],\n",
       " '74': ['A00', 'G43'],\n",
       " '76': ['G43', 'I10', 'K13', 'N85'],\n",
       " '77': ['G43', 'H65', 'I10', 'K13'],\n",
       " '78': ['A00', 'G43', 'K13', 'Z04'],\n",
       " '79': ['A00', 'G43', 'H65'],\n",
       " '80': ['G43', 'H65', 'I10', 'K13', 'Z04'],\n",
       " '81': ['K13'],\n",
       " '82': ['G43', 'I10', 'K13'],\n",
       " '83': ['A00', 'G43', 'K13', 'N85', 'Z04'],\n",
       " '84': ['A00', 'G43', 'I10', 'K13'],\n",
       " '86': ['A00', 'H65', 'K13'],\n",
       " '88': ['A00', 'G43', 'H65', 'I10', 'K13', 'Z04'],\n",
       " '91': ['A00', 'G43', 'I10', 'K13', 'N85', 'Z04'],\n",
       " '92': ['A00', 'H65', 'K13', 'Z04'],\n",
       " '93': ['A00', 'G43', 'H65', 'I10', 'K13', 'Z04'],\n",
       " '94': ['A00', 'G43'],\n",
       " '95': ['G43', 'H65', 'K13'],\n",
       " '96': ['A00', 'H65', 'I10'],\n",
       " '98': ['H65', 'I10', 'K13'],\n",
       " '100': ['A00', 'G43', 'I10', 'K13', 'Z04'],\n",
       " '103': ['A00', 'H65', 'K13'],\n",
       " '106': ['G43', 'I10', 'K13', 'N85', 'Z04'],\n",
       " '110': ['G43', 'H65'],\n",
       " '113': ['A00', 'G43', 'H65', 'I10', 'K13', 'N85'],\n",
       " '121': ['A00', 'H65', 'I10', 'K13', 'N85'],\n",
       " '123': ['A00', 'G43', 'K13', 'Z04'],\n",
       " '124': ['A00', 'I10', 'K13', 'Z04'],\n",
       " '135': ['A00', 'G43', 'K13', 'Z04'],\n",
       " '136': ['A00', 'G43', 'I10'],\n",
       " '146': ['A00', 'K13', 'N85'],\n",
       " '148': ['A00', 'G43', 'I10', 'K13'],\n",
       " '149': ['H65', 'I10', 'Z04'],\n",
       " '152': ['A00', 'I10', 'Z04'],\n",
       " '155': ['A00', 'G43', 'K13'],\n",
       " '157': ['A00', 'G43', 'K13', 'Z04'],\n",
       " '160': ['A00', 'G43', 'H65', 'I10', 'K13', 'N85'],\n",
       " '162': ['G43', 'H65', 'K13', 'Z04'],\n",
       " '169': ['A00', 'G43', 'H65'],\n",
       " '179': ['A00', 'H65', 'I10', 'K13', 'Z04'],\n",
       " '180': ['A00', 'G43'],\n",
       " '187': ['A00', 'G43', 'H65', 'I10'],\n",
       " '195': ['A00', 'G43', 'H65', 'K13'],\n",
       " '196': ['G43', 'I10', 'K13'],\n",
       " '197': ['A00', 'G43', 'H65', 'K13', 'Z04'],\n",
       " '198': ['A00', 'K13'],\n",
       " '202': ['A00', 'G43', 'H65', 'K13'],\n",
       " '208': ['G43', 'H65', 'K13'],\n",
       " '212': ['A00', 'G43', 'H65', 'K13', 'Z04'],\n",
       " '219': ['A00', 'G43', 'H65', 'I10', 'K13'],\n",
       " '220': ['A00', 'G43', 'I10', 'K13', 'Z04'],\n",
       " '223': ['H65', 'I10', 'K13', 'Z04'],\n",
       " '242': ['A00', 'G43', 'I10', 'N85', 'Z04'],\n",
       " '243': ['A00', 'I10', 'N85'],\n",
       " '250': ['A00'],\n",
       " '256': ['K13'],\n",
       " '277': ['A00', 'H65', 'I10', 'K13'],\n",
       " '279': ['A00', 'G43', 'H65', 'K13'],\n",
       " '289': ['A00', 'G43', 'K13'],\n",
       " '292': ['A00', 'G43', 'I10', 'Z04']}"
      ]
     },
     "execution_count": 9,
     "metadata": {},
     "output_type": "execute_result"
    }
   ],
   "source": [
    "\n"
   ]
  },
  {
   "cell_type": "code",
   "execution_count": 33,
   "id": "82c406b7",
   "metadata": {},
   "outputs": [
    {
     "data": {
      "text/plain": [
       "[1, 2, 3, 4]"
      ]
     },
     "execution_count": 33,
     "metadata": {},
     "output_type": "execute_result"
    }
   ],
   "source": [
    "a = [1,2,3,4]\n",
    "a[:9]"
   ]
  }
 ],
 "metadata": {
  "kernelspec": {
   "display_name": "Python 3",
   "language": "python",
   "name": "python3"
  },
  "language_info": {
   "codemirror_mode": {
    "name": "ipython",
    "version": 3
   },
   "file_extension": ".py",
   "mimetype": "text/x-python",
   "name": "python",
   "nbconvert_exporter": "python",
   "pygments_lexer": "ipython3",
   "version": "3.9.6"
  }
 },
 "nbformat": 4,
 "nbformat_minor": 5
}
