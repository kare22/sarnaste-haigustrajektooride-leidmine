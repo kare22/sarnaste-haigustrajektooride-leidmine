{
 "cells": [
  {
   "cell_type": "code",
   "execution_count": 26,
   "id": "2a2cf584",
   "metadata": {},
   "outputs": [],
   "source": [
    "import pandas as pd\n",
    "import ast"
   ]
  },
  {
   "cell_type": "code",
   "execution_count": 60,
   "id": "cf2cd94a",
   "metadata": {},
   "outputs": [],
   "source": [
    "### Functions for getting data from files\n",
    "\n",
    "## Get sections (default file name is diagnoses.csv)\n",
    "def get_sections(file_name = 'diagnoses.csv'):\n",
    "    person_sections = dict()\n",
    "    file = open(file_name)\n",
    "    content = file.read()\n",
    "    lines = content.split('\\n')\n",
    "    file.close()\n",
    "    for (index, line) in enumerate(lines):\n",
    "        cols = line.split('\\t')\n",
    "        if index == 0 or len(cols) <= 1: #Ignore title row and empty rows\n",
    "            continue\n",
    "        sections = ast.literal_eval(cols[-2])\n",
    "        person_sections[cols[0]] = sections\n",
    "    return person_sections"
   ]
  },
  {
   "cell_type": "code",
   "execution_count": 69,
   "id": "3f073227",
   "metadata": {},
   "outputs": [],
   "source": [
    "sections = get_sections()"
   ]
  },
  {
   "cell_type": "code",
   "execution_count": 110,
   "id": "411e8906",
   "metadata": {},
   "outputs": [
    {
     "data": {
      "text/plain": [
       "5"
      ]
     },
     "execution_count": 110,
     "metadata": {},
     "output_type": "execute_result"
    }
   ],
   "source": [
    "### Methods for comparing trajectories\n",
    "\n",
    "\n",
    "## Get local alignment between person1(horizontal) and person2(vertical)\n",
    "def get_local_alignment(p1, p2):\n",
    "    #Parameters\n",
    "    match = 1\n",
    "    mismatch = 0\n",
    "    gap_penalty = -1\n",
    "    \n",
    "    #Initialisation\n",
    "    matrix = [[0 for i in range(len(p2) + 1)] for j in range(len(p1) + 1)]\n",
    "    for i in range(len(p1) + 1):\n",
    "        matrix[i][0] = i * gap_penalty\n",
    "    for i in range(len(p2) + 1):\n",
    "        matrix[0][i] = i * gap_penalty\n",
    "        \n",
    "    #Fill\n",
    "    for i in range(len(p1)):\n",
    "        for j in range(len(p2)):\n",
    "            p1_diagnosis = p1[i][0]\n",
    "            p2_diagnosis = p2[j][0]\n",
    "            left = matrix[i][j+1] + gap_penalty\n",
    "            right = matrix[i+1][j] + gap_penalty\n",
    "            diagonal = matrix[i][j] + (match if p1_diagnosis == p2_diagnosis else mismatch)\n",
    "            matrix[i+1][j+1] = max(left, right, diagonal, 0)\n",
    "    \n",
    "    #Find the biggest alignment value\n",
    "    MAX = None\n",
    "    for row in matrix:\n",
    "        row_max = max(row)\n",
    "        MAX = row_max if MAX == None or row_max > MAX else MAX\n",
    "        \n",
    "    return MAX\n",
    "\n",
    "get_local_alignment(sections['1'], sections['2'])"
   ]
  },
  {
   "cell_type": "code",
   "execution_count": 94,
   "id": "43578034",
   "metadata": {},
   "outputs": [
    {
     "data": {
      "text/plain": [
       "4"
      ]
     },
     "execution_count": 94,
     "metadata": {},
     "output_type": "execute_result"
    }
   ],
   "source": [
    "### NB comparing people, there is no need for a matrix, because comparing p1 and p2 is the same as comparing p2 and p1\n"
   ]
  },
  {
   "cell_type": "code",
   "execution_count": 105,
   "id": "000597e7",
   "metadata": {},
   "outputs": [
    {
     "ename": "TypeError",
     "evalue": "'<' not supported between instances of 'int' and 'NoneType'",
     "output_type": "error",
     "traceback": [
      "\u001b[0;31m---------------------------------------------------------------------------\u001b[0m",
      "\u001b[0;31mTypeError\u001b[0m                                 Traceback (most recent call last)",
      "\u001b[0;32m<ipython-input-105-05a4643a0bd5>\u001b[0m in \u001b[0;36m<module>\u001b[0;34m\u001b[0m\n\u001b[0;32m----> 1\u001b[0;31m \u001b[0;36m2\u001b[0m \u001b[0;34m<\u001b[0m \u001b[0;32mNone\u001b[0m\u001b[0;34m\u001b[0m\u001b[0;34m\u001b[0m\u001b[0m\n\u001b[0m",
      "\u001b[0;31mTypeError\u001b[0m: '<' not supported between instances of 'int' and 'NoneType'"
     ]
    }
   ],
   "source": [
    "2 < None"
   ]
  },
  {
   "cell_type": "code",
   "execution_count": null,
   "id": "f38e9377",
   "metadata": {},
   "outputs": [],
   "source": []
  },
  {
   "cell_type": "code",
   "execution_count": 75,
   "id": "82c406b7",
   "metadata": {},
   "outputs": [
    {
     "ename": "KeyError",
     "evalue": "1",
     "output_type": "error",
     "traceback": [
      "\u001b[0;31m---------------------------------------------------------------------------\u001b[0m",
      "\u001b[0;31mKeyError\u001b[0m                                  Traceback (most recent call last)",
      "\u001b[0;32m<ipython-input-75-668ec480bde2>\u001b[0m in \u001b[0;36m<module>\u001b[0;34m\u001b[0m\n\u001b[0;32m----> 1\u001b[0;31m \u001b[0mget_local_alignment\u001b[0m\u001b[0;34m(\u001b[0m\u001b[0msections\u001b[0m\u001b[0;34m[\u001b[0m\u001b[0;36m1\u001b[0m\u001b[0;34m]\u001b[0m\u001b[0;34m,\u001b[0m \u001b[0msections\u001b[0m\u001b[0;34m[\u001b[0m\u001b[0;36m2\u001b[0m\u001b[0;34m]\u001b[0m\u001b[0;34m)\u001b[0m\u001b[0;34m\u001b[0m\u001b[0;34m\u001b[0m\u001b[0m\n\u001b[0m",
      "\u001b[0;31mKeyError\u001b[0m: 1"
     ]
    }
   ],
   "source": []
  }
 ],
 "metadata": {
  "kernelspec": {
   "display_name": "Python 3",
   "language": "python",
   "name": "python3"
  },
  "language_info": {
   "codemirror_mode": {
    "name": "ipython",
    "version": 3
   },
   "file_extension": ".py",
   "mimetype": "text/x-python",
   "name": "python",
   "nbconvert_exporter": "python",
   "pygments_lexer": "ipython3",
   "version": "3.9.6"
  }
 },
 "nbformat": 4,
 "nbformat_minor": 5
}
